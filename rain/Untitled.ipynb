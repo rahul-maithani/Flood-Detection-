{
 "cells": [
  {
   "cell_type": "code",
   "execution_count": null,
   "id": "b964f753-42fd-4dba-93ae-ca38597c2804",
   "metadata": {},
   "outputs": [],
   "source": [
    "# Cell 1: Load and Inspect Data\n",
    "import pandas as pd\n",
    "\n",
    "# Load rainfall and flood event datasets\n",
    "rain_df = pd.read_csv(r\"C:\\Users\\rahul\\OneDrive\\Desktop\\AICTE\\rain\\data\\rain.csv\")\n",
    "flood_df = pd.read_csv(r\"C:\\Users\\rahul\\OneDrive\\Desktop\\AICTE\\rain\\data\\flood_events.csv\")\n",
    "\n",
    "# Clean column names\n",
    "rain_df.columns = rain_df.columns.str.strip().str.lower().str.replace(' ', '_')\n",
    "flood_df.columns = flood_df.columns.str.strip().str.lower().str.replace(' ', '_')\n",
    "\n",
    "# Inspect data\n",
    "print(\"Rainfall data shape:\", rain_df.shape)\n",
    "print(\"Flood events data shape:\", flood_df.shape)\n",
    "print(\"\\nRainfall columns:\", rain_df.columns.tolist())\n",
    "print(\"Flood columns:\", flood_df.columns.tolist())\n"
   ]
  }
 ],
 "metadata": {
  "kernelspec": {
   "display_name": "Python 3 (ipykernel)",
   "language": "python",
   "name": "python3"
  },
  "language_info": {
   "codemirror_mode": {
    "name": "ipython",
    "version": 3
   },
   "file_extension": ".py",
   "mimetype": "text/x-python",
   "name": "python",
   "nbconvert_exporter": "python",
   "pygments_lexer": "ipython3",
   "version": "3.12.6"
  }
 },
 "nbformat": 4,
 "nbformat_minor": 5
}
